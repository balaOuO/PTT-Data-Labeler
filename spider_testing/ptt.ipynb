{
 "cells": [
  {
   "cell_type": "code",
   "execution_count": 12,
   "metadata": {},
   "outputs": [],
   "source": [
    "import requests\n",
    "from bs4 import BeautifulSoup\n",
    "import re\n",
    "import sys \n",
    "sys.path.append(\"..\")\n",
    "from config import *\n",
    "\n",
    "data = requests.get(BASE_URL + \"/bbs/Gossiping/index.html\" , headers=HEADER_18)\n",
    "soup = BeautifulSoup(data.text , \"html.parser\")"
   ]
  },
  {
   "cell_type": "code",
   "execution_count": 13,
   "metadata": {},
   "outputs": [
    {
     "name": "stdout",
     "output_type": "stream",
     "text": [
      "Title : [新聞] 深坑大火到虐童案合作平台遭酸變「失聯\n",
      "Link : /bbs/Gossiping/M.1710680452.A.28A.html\n",
      "Title : Re: [問卦] 中國為何不每年花50億收買台灣人就好了?\n",
      "Link : /bbs/Gossiping/M.1710680553.A.C60.html\n",
      "Title : [新聞] 老母親照顧癱瘓兒半世紀…「萬元紅包＋膠\n",
      "Link : /bbs/Gossiping/M.1710680566.A.9D2.html\n",
      "Title : Re: [問卦] 為啥高鐵還是有人愛佔位啊？\n",
      "Link : /bbs/Gossiping/M.1710680568.A.6A8.html\n",
      "Title : [新聞] 獨／內部信曝光！兒盟虐童案挨轟卸責\n",
      "Link : /bbs/Gossiping/M.1710680569.A.F2A.html\n",
      "Title : [問卦] 悠遊卡搭台鐵怎麼算錢阿？\n",
      "Link : /bbs/Gossiping/M.1710680582.A.C4D.html\n",
      "Title : [問卦] 女友信邪教v.s有憂鬱症，哪個更恐怖？\n",
      "Link : /bbs/Gossiping/M.1710680632.A.5BE.html\n",
      "Title : [問卦]朋友推銷保險怎麼拒絕\n",
      "Link : /bbs/Gossiping/M.1710680655.A.548.html\n",
      "Title : [新聞] 童星轉大人「下海拍AV」激戰清水健 挾F奶速登銷售冠軍\n",
      "Link : /bbs/Gossiping/M.1710680655.A.2EC.html\n",
      "Title : [問卦] 欸欸 燈泡壞掉了 是房客要負責修還是房東\n",
      "Link : /bbs/Gossiping/M.1710680669.A.5FD.html\n",
      "Title : [問卦] 「ETF打敗定存」這句話得罪了誰\n",
      "Link : /bbs/Gossiping/M.1710680684.A.CB4.html\n",
      "Title : [問卦] 再過幾天大家就會忘記虐童案了？\n",
      "Link : /bbs/Gossiping/M.1710680746.A.9EB.html\n",
      "Title : [問卦] 北約現在在演什麼\n",
      "Link : /bbs/Gossiping/M.1710680755.A.88F.html\n",
      "Title : [問卦] 9點了大家還不睡？\n",
      "Link : /bbs/Gossiping/M.1710680760.A.611.html\n",
      "Title : Re: [新聞] 豆漿名店「驚爆歇業」！開業20年　老闆嘆\n",
      "Link : /bbs/Gossiping/M.1710680792.A.0F7.html\n",
      "Title : [問卦] 老師追自己的學生有違反倫理嗎??\n",
      "Link : /bbs/Gossiping/M.1710680804.A.A5F.html\n",
      "Title : [新聞] 山下智久合照Lisa遭保鑣趕走！他當場「臭\n",
      "Link : /bbs/Gossiping/M.1710680848.A.D70.html\n",
      "Title : [問卦] 台灣戰爭風險高，但台女免徵兵？\n",
      "Link : /bbs/Gossiping/M.1710680896.A.9EA.html\n",
      "Title : [公告] 八卦板板規(2023.11.11)\n",
      "Link : /bbs/Gossiping/M.1699632792.A.2CB.html\n",
      "Title : [公告]～（＠ｏ＠）～三月置底閒聊區 \n",
      "Link : /bbs/Gossiping/M.1709979240.A.A3A.html\n",
      "Title : [協尋] 2024/2/28 17:00台南新市大洲1-35號\n",
      "Link : /bbs/Gossiping/M.1709296467.A.866.html\n",
      "Title : [協尋] 行車記錄器 3/14  中興橋往北市機車道\n",
      "Link : /bbs/Gossiping/M.1710456787.A.E25.html\n",
      "Title : [協尋] 行車紀錄 3/11晚上8點多新北大道化成路口\n",
      "Link : /bbs/Gossiping/M.1710161000.A.47C.html\n"
     ]
    }
   ],
   "source": [
    "# get every header\n",
    "headers = soup.select(\"div.r-ent div.title a\")\n",
    "urls = []\n",
    "for header in headers:\n",
    "    print(\"Title : \" + header.text)\n",
    "    print(\"Link : \" + header[\"href\"])\n",
    "    urls.append(header[\"href\"])"
   ]
  },
  {
   "cell_type": "code",
   "execution_count": null,
   "metadata": {},
   "outputs": [],
   "source": [
    "content_data = requests.get(BASE_URL + urls[0])\n",
    "content_soup = BeautifulSoup(content_data.text , \"html.parser\")\n",
    "print(content_soup)"
   ]
  },
  {
   "cell_type": "code",
   "execution_count": 14,
   "metadata": {},
   "outputs": [],
   "source": [
    "import sys\n",
    "sys.path.append(\"..\")\n",
    "from src.artice import Artice\n",
    "\n",
    "artice = Artice(\"/bbs/C_Chat/M.1710679059.A.331.html\")\n",
    "# artice = Artice(\"/bbs/Gossiping/M.1710507493.A.309.html\")"
   ]
  },
  {
   "cell_type": "code",
   "execution_count": 15,
   "metadata": {},
   "outputs": [
    {
     "data": {
      "text/plain": [
       "'negisan39 (台中野三玖)'"
      ]
     },
     "execution_count": 15,
     "metadata": {},
     "output_type": "execute_result"
    }
   ],
   "source": [
    "artice.author"
   ]
  },
  {
   "cell_type": "code",
   "execution_count": 16,
   "metadata": {},
   "outputs": [
    {
     "data": {
      "text/plain": [
       "'C_Chat'"
      ]
     },
     "execution_count": 16,
     "metadata": {},
     "output_type": "execute_result"
    }
   ],
   "source": [
    "artice.board"
   ]
  },
  {
   "cell_type": "code",
   "execution_count": 17,
   "metadata": {},
   "outputs": [
    {
     "data": {
      "text/plain": [
       "'[閒聊] 為什麼加速世界之後不出動畫了？'"
      ]
     },
     "execution_count": 17,
     "metadata": {},
     "output_type": "execute_result"
    }
   ],
   "source": [
    "artice.title"
   ]
  },
  {
   "cell_type": "code",
   "execution_count": 18,
   "metadata": {},
   "outputs": [
    {
     "data": {
      "text/plain": [
       "'\\n\\n如題，設定有趣、劇情也算蠻好看的\\n\\n\\n\\n口號BURST LINK之前也覺得潮到出水\\n\\n\\n\\n主題曲都很好聽，想到的時候還會哼個兩句\\n\\n\\n\\n\\n\\n為什麼這個作品之後就沒有動畫了啊\\n\\n乾五西洽？\\n\\n\\n--\\n蛤 可是劇情有料的話男主長相不重要吧QQ 賣黑雪姬就好啦\\n'"
      ]
     },
     "execution_count": 18,
     "metadata": {},
     "output_type": "execute_result"
    }
   ],
   "source": [
    "artice.content"
   ]
  },
  {
   "cell_type": "code",
   "execution_count": 19,
   "metadata": {},
   "outputs": [
    {
     "data": {
      "text/plain": [
       "datetime.datetime(2024, 3, 17, 20, 37, 37)"
      ]
     },
     "execution_count": 19,
     "metadata": {},
     "output_type": "execute_result"
    }
   ],
   "source": [
    "artice.date_time"
   ]
  },
  {
   "cell_type": "code",
   "execution_count": 20,
   "metadata": {},
   "outputs": [
    {
     "data": {
      "text/plain": [
       "Comment(tag='→ ', author='junior1006', content=': 因為LL太賺了', _sourse_year=2024, _ip_datetime='03/17 20:38\\n', ip=None, date_time=datetime.datetime(2024, 3, 17, 20, 38))"
      ]
     },
     "execution_count": 20,
     "metadata": {},
     "output_type": "execute_result"
    }
   ],
   "source": [
    "artice.comment[1]"
   ]
  },
  {
   "cell_type": "code",
   "execution_count": null,
   "metadata": {},
   "outputs": [],
   "source": []
  }
 ],
 "metadata": {
  "kernelspec": {
   "display_name": "Spyder",
   "language": "python",
   "name": "python3"
  },
  "language_info": {
   "codemirror_mode": {
    "name": "ipython",
    "version": 3
   },
   "file_extension": ".py",
   "mimetype": "text/x-python",
   "name": "python",
   "nbconvert_exporter": "python",
   "pygments_lexer": "ipython3",
   "version": "3.12.2"
  }
 },
 "nbformat": 4,
 "nbformat_minor": 2
}
