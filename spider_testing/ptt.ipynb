{
 "cells": [
  {
   "cell_type": "code",
   "execution_count": 7,
   "metadata": {},
   "outputs": [],
   "source": [
    "import requests\n",
    "from bs4 import BeautifulSoup\n",
    "import re\n",
    "import sys \n",
    "sys.path.append(\"..\")\n",
    "from config import *\n",
    "\n",
    "data = requests.get(BASE_URL + \"/bbs/Gossiping/index.html\" , headers=HEADER_18)\n",
    "soup = BeautifulSoup(data.text , \"html.parser\")"
   ]
  },
  {
   "cell_type": "code",
   "execution_count": 8,
   "metadata": {},
   "outputs": [
    {
     "name": "stdout",
     "output_type": "stream",
     "text": [
      "Title : Re: [新聞] 遊韓拍正妹竟觸法　遭境管滯留2.5個月\n",
      "Link : /bbs/Gossiping/M.1710507493.A.309.html\n",
      "Title : Re: [問卦] 為何對台女說實話會被水桶？\n",
      "Link : /bbs/Gossiping/M.1710507527.A.F11.html\n",
      "Title : [問卦] 台灣爲何整天有大麻被抓的新聞\n",
      "Link : /bbs/Gossiping/M.1710507649.A.783.html\n",
      "Title : [問卦] 開會遲到還那麼大聲喔？\n",
      "Link : /bbs/Gossiping/M.1710507658.A.709.html\n",
      "Title : Re: [問卦] 到底哪些智障會讀社工系\n",
      "Link : /bbs/Gossiping/M.1710507704.A.803.html\n",
      "Title : [問卦] 有沒有7-ELEVEN 交貨便 有沒有詐騙啊？\n",
      "Link : /bbs/Gossiping/M.1710507720.A.9C6.html\n",
      "Title : [問卦] 國道公車安全帶壞了\n",
      "Link : /bbs/Gossiping/M.1710507826.A.99C.html\n",
      "Title : [問卦] 所以江宏傑的兒子會被送回台灣了嗎?\n",
      "Link : /bbs/Gossiping/M.1710507902.A.F2C.html\n",
      "Title : [問卦] 建議台大廢社工系\n",
      "Link : /bbs/Gossiping/M.1710507940.A.B3C.html\n",
      "Title : [新聞] 還原總質詢風波！7綠1藍委質詢被韓國瑜\n",
      "Link : /bbs/Gossiping/M.1710508039.A.2F1.html\n",
      "Title : [公告] 八卦板板規(2023.11.11)\n",
      "Link : /bbs/Gossiping/M.1699632792.A.2CB.html\n",
      "Title : [活動] 3/9 創作者議題論壇心得徵文&直播討論串 \n",
      "Link : /bbs/Gossiping/M.1709954498.A.E09.html\n",
      "Title : [公告]～（＠ｏ＠）～三月置底閒聊區 \n",
      "Link : /bbs/Gossiping/M.1709979240.A.A3A.html\n",
      "Title : [協尋] 2024/2/28 17:00台南新市大洲1-35號\n",
      "Link : /bbs/Gossiping/M.1709296467.A.866.html\n",
      "Title : [爆卦] 有沒有麥當勞全台系統離線的八卦？\n",
      "Link : /bbs/Gossiping/M.1710483598.A.17B.html\n"
     ]
    }
   ],
   "source": [
    "# get every header\n",
    "headers = soup.select(\"div.r-ent div.title a\")\n",
    "urls = []\n",
    "for header in headers:\n",
    "    print(\"Title : \" + header.text)\n",
    "    print(\"Link : \" + header[\"href\"])\n",
    "    urls.append(header[\"href\"])"
   ]
  },
  {
   "cell_type": "code",
   "execution_count": null,
   "metadata": {},
   "outputs": [],
   "source": [
    "content_data = requests.get(BASE_URL + urls[0])\n",
    "content_soup = BeautifulSoup(content_data.text , \"html.parser\")\n",
    "print(content_soup)"
   ]
  },
  {
   "cell_type": "code",
   "execution_count": null,
   "metadata": {},
   "outputs": [],
   "source": [
    "main_content = content_soup.select_one(\"div#main-content\")\n",
    "print(main_content)"
   ]
  },
  {
   "cell_type": "code",
   "execution_count": null,
   "metadata": {},
   "outputs": [],
   "source": [
    "print(main_content.find_all())\n",
    "for child in main_content.find_all():\n",
    "    print(child.text)\n",
    "    child.decompose()"
   ]
  },
  {
   "cell_type": "code",
   "execution_count": null,
   "metadata": {},
   "outputs": [],
   "source": [
    "print(main_content.text)"
   ]
  },
  {
   "cell_type": "code",
   "execution_count": 1,
   "metadata": {},
   "outputs": [
    {
     "name": "stdout",
     "output_type": "stream",
     "text": [
      "\n",
      "嘉義市區車禍 機車彈飛撞破理髮店大門 店家大呼「夭壽」\n",
      "\n",
      "2024-03-09 12:44 聯合報／ 記者\n",
      "魯永明\n",
      "／嘉義即時報導\n",
      "\n",
      "嘉義市消防局上午10點多獲報，民權路與新生路口，發生小貨車與機車碰撞車禍，機車撞\n",
      "破貨車前檔玻璃，噴飛10多公尺外倒地，年輕機車騎士受傷倒地，噴飛的機車將路旁理髮\n",
      "店鋁門撞破洞，消防救護人員將受傷駕駛送嘉基救治，車禍原因警方鑑定調查。\n",
      "\n",
      "「夭壽喔！車禍將阮店內的鋁門都撞破洞！」遭波及的理髮店老闆，拿手機拍照存證，向\n",
      "警方提告要求肇事者賠償修復，還好噴飛的機車未衝進店內造成客人受傷。\n",
      "\n",
      "警方調查，小貨車行經民權路與新生路口，要從新生路左轉民權路，與直行的機車碰撞，\n",
      "小貨車駕駛未受傷，騎機車男子受傷，調閱路口監視器，釐清車禍發生原因。\n",
      "\n",
      "消防救護人員到場，對騎機車倒地不動的受傷男子檢傷，路旁一家耳鼻喉科護士趕緊出來\n",
      "協助搶救，檢傷，男機車騎士戴安全帽頭部未受創，身體手腳多處擦傷。\n",
      "\n",
      "\n",
      "\n",
      "\n",
      "\n",
      "\n",
      "嘉義市民權路與新生路口上午10點多，發生小貨車與機車碰撞車禍，機車撞破貨車前檔玻\n",
      "璃，噴飛10多公尺外倒地，波及路旁理髮店鋁門撞破洞。記者魯永明／攝影\n",
      "\n",
      "\n",
      "\n",
      "這種發財車沒有在讓轉彎車與行人的\n",
      "遇過好幾次了\n",
      "都要別人讓它！\n",
      "\n",
      "--\n",
      "\n"
     ]
    }
   ],
   "source": [
    "from src.ptt_article_spyder import Artice\n",
    "\n",
    "artice = Artice(\"/bbs/car/M.1709972123.A.A17.html\")\n",
    "print(artice.GetContent())"
   ]
  },
  {
   "cell_type": "code",
   "execution_count": null,
   "metadata": {},
   "outputs": [],
   "source": []
  }
 ],
 "metadata": {
  "kernelspec": {
   "display_name": "Spyder",
   "language": "python",
   "name": "python3"
  },
  "language_info": {
   "codemirror_mode": {
    "name": "ipython",
    "version": 3
   },
   "file_extension": ".py",
   "mimetype": "text/x-python",
   "name": "python",
   "nbconvert_exporter": "python",
   "pygments_lexer": "ipython3",
   "version": "3.12.2"
  }
 },
 "nbformat": 4,
 "nbformat_minor": 2
}
