{
 "cells": [
  {
   "cell_type": "code",
   "execution_count": 1,
   "metadata": {},
   "outputs": [],
   "source": [
    "import requests\n",
    "from bs4 import BeautifulSoup\n",
    "import re\n",
    "import sys \n",
    "sys.path.append(\"..\")\n",
    "from config import *\n",
    "\n",
    "data = requests.get(BASE_URL + \"/bbs/Gossiping/index.html\" , headers=HEADER_18)\n",
    "soup = BeautifulSoup(data.text , \"html.parser\")"
   ]
  },
  {
   "cell_type": "code",
   "execution_count": 2,
   "metadata": {},
   "outputs": [
    {
     "name": "stdout",
     "output_type": "stream",
     "text": [
      "Title : [問卦] 你會故意找比較少人支持的隊伍支持嗎？\n",
      "Link : /bbs/Gossiping/M.1711117477.A.589.html\n",
      "Title : [新聞] 加熱菸520審查通過，7月上市？政府真的\n",
      "Link : /bbs/Gossiping/M.1711117531.A.A91.html\n",
      "Title : [新聞] 藍委詢問是否推動台灣獨立 陳建仁：維持\n",
      "Link : /bbs/Gossiping/M.1711117555.A.8B2.html\n",
      "Title : [新聞] 在波斯灣一戰成名 美A-10攻擊機特技小組展開告別巡演\n",
      "Link : /bbs/Gossiping/M.1711117589.A.64B.html\n",
      "Title : [問卦] 各位會看女高中生打手槍嗎\n",
      "Link : /bbs/Gossiping/M.1711117687.A.4BB.html\n",
      "Title : [問卦] 特休只有三天要怎麼用？\n",
      "Link : /bbs/Gossiping/M.1711117697.A.F00.html\n",
      "Title : [問卦] 肛門要塞什麼才專業？\n",
      "Link : /bbs/Gossiping/M.1711117867.A.191.html\n",
      "Title : [問卦] 台灣男人都怎麼唬爛自己的性能力有多強\n",
      "Link : /bbs/Gossiping/M.1711117914.A.E29.html\n",
      "Title : Re: [問卦] 大谷是一個沒有腦袋的肌肉棒子嗎？\n",
      "Link : /bbs/Gossiping/M.1711117970.A.A56.html\n",
      "Title : Re: [問卦] 有人的IG一直自動被登出嗎？\n",
      "Link : /bbs/Gossiping/M.1711118027.A.94A.html\n",
      "Title : [問卦] NONO對台灣最大貢獻是啥呢\n",
      "Link : /bbs/Gossiping/M.1711118039.A.AE3.html\n",
      "Title : [問卦] 汪小菲根本就還愛大S的八卦\n",
      "Link : /bbs/Gossiping/M.1711118056.A.C11.html\n",
      "Title : [新聞] 核電真能降低燃料成本?台電總座親拿數據\n",
      "Link : /bbs/Gossiping/M.1711118076.A.EE2.html\n",
      "Title : [問卦] 把蘇丹紅弄給大家吃的商人要坐幾年牢?\n",
      "Link : /bbs/Gossiping/M.1711118112.A.D84.html\n",
      "Title : [問卦] 朱學恆翻譯實力如何？\n",
      "Link : /bbs/Gossiping/M.1711118120.A.65F.html\n",
      "Title : [問卦] 日本必勝客到底多愛香菜\n",
      "Link : /bbs/Gossiping/M.1711118205.A.875.html\n",
      "Title : [公告] 八卦板板規(2023.11.11)\n",
      "Link : /bbs/Gossiping/M.1699632792.A.2CB.html\n",
      "Title : [協尋] 行車記錄器 3/14  中興橋往北市機車道\n",
      "Link : /bbs/Gossiping/M.1710456787.A.E25.html\n",
      "Title : Fw: [聯署] 用定期健檢防止安置兒童持續受虐\n",
      "Link : /bbs/Gossiping/M.1710949284.A.389.html\n",
      "Title : [公告] 協尋十歲的米克斯犬(北市) 名稱:弟弟&水桶\n",
      "Link : /bbs/Gossiping/M.1711031280.A.AF9.html\n",
      "Title : [協尋] 失智長者走失（已找到）\n",
      "Link : /bbs/Gossiping/M.1711078068.A.704.html\n"
     ]
    }
   ],
   "source": [
    "# get every header\n",
    "headers = soup.select(\"div.r-ent div.title a\")\n",
    "urls = []\n",
    "for header in headers:\n",
    "    print(\"Title : \" + header.text)\n",
    "    print(\"Link : \" + header[\"href\"])\n",
    "    urls.append(header[\"href\"])"
   ]
  },
  {
   "cell_type": "code",
   "execution_count": null,
   "metadata": {},
   "outputs": [],
   "source": [
    "content_data = requests.get(BASE_URL + urls[0])\n",
    "content_soup = BeautifulSoup(content_data.text , \"html.parser\")\n",
    "print(content_soup)"
   ]
  },
  {
   "cell_type": "code",
   "execution_count": 1,
   "metadata": {},
   "outputs": [],
   "source": [
    "import sys\n",
    "sys.path.append(\"..\")\n",
    "from src.article import Article\n",
    "\n",
    "article = Article(\"/bbs/C_Chat/M.1710679059.A.331.html\")"
   ]
  },
  {
   "cell_type": "code",
   "execution_count": 15,
   "metadata": {},
   "outputs": [
    {
     "data": {
      "text/plain": [
       "'negisan39 (台中野三玖)'"
      ]
     },
     "execution_count": 15,
     "metadata": {},
     "output_type": "execute_result"
    }
   ],
   "source": [
    "article.author"
   ]
  },
  {
   "cell_type": "code",
   "execution_count": 16,
   "metadata": {},
   "outputs": [
    {
     "data": {
      "text/plain": [
       "'C_Chat'"
      ]
     },
     "execution_count": 16,
     "metadata": {},
     "output_type": "execute_result"
    }
   ],
   "source": [
    "article.board"
   ]
  },
  {
   "cell_type": "code",
   "execution_count": 17,
   "metadata": {},
   "outputs": [
    {
     "data": {
      "text/plain": [
       "'[閒聊] 為什麼加速世界之後不出動畫了？'"
      ]
     },
     "execution_count": 17,
     "metadata": {},
     "output_type": "execute_result"
    }
   ],
   "source": [
    "article.title"
   ]
  },
  {
   "cell_type": "code",
   "execution_count": 18,
   "metadata": {},
   "outputs": [
    {
     "data": {
      "text/plain": [
       "'\\n\\n如題，設定有趣、劇情也算蠻好看的\\n\\n\\n\\n口號BURST LINK之前也覺得潮到出水\\n\\n\\n\\n主題曲都很好聽，想到的時候還會哼個兩句\\n\\n\\n\\n\\n\\n為什麼這個作品之後就沒有動畫了啊\\n\\n乾五西洽？\\n\\n\\n--\\n蛤 可是劇情有料的話男主長相不重要吧QQ 賣黑雪姬就好啦\\n'"
      ]
     },
     "execution_count": 18,
     "metadata": {},
     "output_type": "execute_result"
    }
   ],
   "source": [
    "article.content"
   ]
  },
  {
   "cell_type": "code",
   "execution_count": 19,
   "metadata": {},
   "outputs": [
    {
     "data": {
      "text/plain": [
       "datetime.datetime(2024, 3, 17, 20, 37, 37)"
      ]
     },
     "execution_count": 19,
     "metadata": {},
     "output_type": "execute_result"
    }
   ],
   "source": [
    "article.date_time"
   ]
  },
  {
   "cell_type": "code",
   "execution_count": 2,
   "metadata": {},
   "outputs": [
    {
     "data": {
      "text/plain": [
       "Comment(tag='→ ', author='junior1006', content='因為LL太賺了', _sourse_year=2024, _ip_datetime='03/17 20:38\\n', ip=None, date_time=datetime.datetime(2024, 3, 17, 20, 38))"
      ]
     },
     "execution_count": 2,
     "metadata": {},
     "output_type": "execute_result"
    }
   ],
   "source": [
    "article.comment[1]"
   ]
  },
  {
   "cell_type": "code",
   "execution_count": null,
   "metadata": {},
   "outputs": [],
   "source": []
  }
 ],
 "metadata": {
  "kernelspec": {
   "display_name": "Spyder",
   "language": "python",
   "name": "python3"
  },
  "language_info": {
   "codemirror_mode": {
    "name": "ipython",
    "version": 3
   },
   "file_extension": ".py",
   "mimetype": "text/x-python",
   "name": "python",
   "nbconvert_exporter": "python",
   "pygments_lexer": "ipython3",
   "version": "3.12.2"
  }
 },
 "nbformat": 4,
 "nbformat_minor": 2
}
