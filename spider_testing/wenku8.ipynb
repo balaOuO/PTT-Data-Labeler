{
 "cells": [
  {
   "cell_type": "code",
   "execution_count": 1,
   "id": "eeb4e826-2bab-4413-9e14-4ddaf0842758",
   "metadata": {},
   "outputs": [],
   "source": [
    "import requests\n",
    "from bs4 import BeautifulSoup"
   ]
  },
  {
   "cell_type": "code",
   "execution_count": 2,
   "id": "1822a861-d9bf-40ad-8fb1-393503dcbb44",
   "metadata": {},
   "outputs": [],
   "source": [
    "def index_to_soup(url):\n",
    "    html = requests.get(url)\n",
    "    soup = BeautifulSoup(html.text, 'html.parser')\n",
    "    return soup"
   ]
  },
  {
   "cell_type": "code",
   "execution_count": 8,
   "id": "414a8779-71df-465a-b1e6-3364605cabdc",
   "metadata": {
    "tags": []
   },
   "outputs": [],
   "source": [
    "site = \"https://www.wenku8.net/novel/1/1973/index.htm\""
   ]
  },
  {
   "cell_type": "raw",
   "id": "b21b0fc2-0d9a-48f4-a694-2f5b8606ef1e",
   "metadata": {
    "tags": []
   },
   "source": [
    "soup = index_to_soup(site)"
   ]
  },
  {
   "cell_type": "code",
   "execution_count": 4,
   "id": "ff1cfc1c-3013-4632-ab3e-ba1be34a0752",
   "metadata": {
    "tags": []
   },
   "outputs": [],
   "source": [
    "soup = BeautifulSoup(html_doc, 'html.parser')"
   ]
  },
  {
   "cell_type": "code",
   "execution_count": 5,
   "id": "2cb8718b-3717-4c6d-8ccb-7bfa1db1e80e",
   "metadata": {
    "tags": []
   },
   "outputs": [],
   "source": [
    "td = soup.find_all(\"td\", {\"class\": [\"ccss\", \"vcss\"]})"
   ]
  },
  {
   "cell_type": "code",
   "execution_count": 6,
   "id": "219b3212-7d70-4926-b1cb-ff13985e923d",
   "metadata": {
    "tags": []
   },
   "outputs": [
    {
     "name": "stdout",
     "output_type": "stream",
     "text": [
      "['vcss']\n"
     ]
    }
   ],
   "source": [
    "print(td[0].get('class'))"
   ]
  },
  {
   "cell_type": "code",
   "execution_count": 13,
   "id": "7f2f7dfa-89d2-49ad-9139-ee681f9e8989",
   "metadata": {},
   "outputs": [
    {
     "name": "stdout",
     "output_type": "stream",
     "text": [
      "KEYWORDS\n",
      "日本的社会结构\n",
      "欢迎来到梦幻般的校园生活\n",
      "D班的各位\n",
      "各位男士，久等了\n",
      "朋友\n",
      "终结的日常\n",
      "欢迎来到实力至上主义的世界\n",
      "集合吧，不及格组\n",
      "再次集合的不及格组\n",
      "期中考\n",
      "开始\n",
      "庆功宴\n",
      "后记\n",
      "插图\n",
      "GAMERS特典短篇\n",
      "特典 某天午前的游泳池\n",
      "特典 happy．unhappy？\n"
     ]
    }
   ],
   "source": [
    "articles = []\n",
    "title = ''\n",
    "is_in_range = False\n",
    "start = '第一卷'\n",
    "for link in td:\n",
    "    if not is_in_range and link.get(\"class\") != [\"vcss\"]:\n",
    "        continue\n",
    "    elif link.string == start:\n",
    "        #print('a')\n",
    "        is_in_range = True\n",
    "    elif link.get(\"class\") == [\"vcss\"] and is_in_range:\n",
    "        break\n",
    "    \n",
    "    if link.find(\"a\") != None and is_in_range:\n",
    "        title = link.a.contents[0].strip()\n",
    "        print(title)\n",
    "        if site[23] == \"n\":\n",
    "            url = site[:-9] + link.find(\"a\").get(\"href\")\n",
    "        else:\n",
    "            url = link.find(\"a\").get(\"href\")\n",
    "        a = {'title': title , 'url':url}\n",
    "        #print(a)\n",
    "        articles.append(a)\n",
    "ans = [(soup.find(\"div\",{\"id\": \"title\"}).contents[0].strip(), articles)]"
   ]
  },
  {
   "cell_type": "code",
   "execution_count": null,
   "id": "db1f351d-e0fe-4245-8ef2-f8d2c038106b",
   "metadata": {
    "tags": []
   },
   "outputs": [],
   "source": [
    "print(ans)"
   ]
  },
  {
   "cell_type": "code",
   "execution_count": null,
   "id": "79b9839c-5161-49eb-bf93-be1a27719c48",
   "metadata": {},
   "outputs": [],
   "source": []
  }
 ],
 "metadata": {
  "kernelspec": {
   "display_name": "Python 3 (ipykernel)",
   "language": "python",
   "name": "python3"
  },
  "language_info": {
   "codemirror_mode": {
    "name": "ipython",
    "version": 3
   },
   "file_extension": ".py",
   "mimetype": "text/x-python",
   "name": "python",
   "nbconvert_exporter": "python",
   "pygments_lexer": "ipython3",
   "version": "3.9.13"
  }
 },
 "nbformat": 4,
 "nbformat_minor": 5
}
